{
 "cells": [
  {
   "cell_type": "code",
   "execution_count": 9,
   "id": "ff4a8a69-c87c-4205-ae87-744ccc5c93af",
   "metadata": {},
   "outputs": [],
   "source": [
    "#1. Import Libraries\n",
    "\n",
    "import tensorflow as tf\n",
    "from tensorflow.keras.applications import EfficientNetB0\n",
    "from tensorflow.keras.models import Sequential\n",
    "from tensorflow.keras.layers import GlobalAveragePooling2D, Dense, Dropout\n",
    "from tensorflow.keras.callbacks import EarlyStopping, ModelCheckpoint\n",
    "from preprocess import load_retina_data\n"
   ]
  },
  {
   "cell_type": "code",
   "execution_count": 89,
   "id": "7de2faba-6359-4b58-9880-dcd7916ce138",
   "metadata": {},
   "outputs": [
    {
     "name": "stdout",
     "output_type": "stream",
     "text": [
      "diagnosis\n",
      "0    1805\n",
      "2     999\n",
      "1     370\n",
      "4     295\n",
      "3     193\n",
      "Name: count, dtype: int64\n"
     ]
    }
   ],
   "source": [
    " #Open your original CSV\n",
    "\n",
    "import pandas as pd\n",
    "\n",
    "# Load your original training CSV\n",
    "df = pd.read_csv(r\"C:\\Users\\rithi\\diabetes_detection_project\\stage2_retinal\\data\\train.csv\")\n",
    "\n",
    "# Show how many images are there in each class\n",
    "print(df['diagnosis'].value_counts())\n"
   ]
  },
  {
   "cell_type": "code",
   "execution_count": 91,
   "id": "00a1feb8-8a39-4419-b91e-fce30e2be155",
   "metadata": {},
   "outputs": [
    {
     "name": "stdout",
     "output_type": "stream",
     "text": [
      "diagnosis\n",
      "0    193\n",
      "1    193\n",
      "2    193\n",
      "3    193\n",
      "4    193\n",
      "Name: count, dtype: int64\n"
     ]
    },
    {
     "name": "stderr",
     "output_type": "stream",
     "text": [
      "C:\\Users\\rithi\\AppData\\Local\\Temp\\ipykernel_33552\\105183095.py:7: DeprecationWarning: DataFrameGroupBy.apply operated on the grouping columns. This behavior is deprecated, and in a future version of pandas the grouping columns will be excluded from the operation. Either pass `include_groups=False` to exclude the groupings or explicitly select the grouping columns after groupby to silence this warning.\n",
      "  balanced_df = df.groupby('diagnosis').apply(lambda x: x.sample(min_class_size, random_state=42)).reset_index(drop=True)\n"
     ]
    }
   ],
   "source": [
    " #Balance Your Dataset (Undersample)\n",
    "\n",
    "# Find the smallest class size\n",
    "min_class_size = df['diagnosis'].value_counts().min()  # will be 193\n",
    "\n",
    "# Balance all classes to match the smallest one\n",
    "balanced_df = df.groupby('diagnosis').apply(lambda x: x.sample(min_class_size, random_state=42)).reset_index(drop=True)\n",
    "\n",
    "# Save this balanced dataset to a new CSV\n",
    "balanced_df.to_csv(r\"C:\\Users\\rithi\\diabetes_detection_project\\stage2_retinal\\data\\balanced_train.csv\", index=False)\n",
    "\n",
    "# Confirm it's balanced\n",
    "print(balanced_df['diagnosis'].value_counts())\n",
    "\n"
   ]
  },
  {
   "cell_type": "code",
   "execution_count": 93,
   "id": "816ae88c-23af-441e-82c5-677bacebadb7",
   "metadata": {},
   "outputs": [],
   "source": [
    "#2. Load Preprocessed Data\n",
    "\n",
    "X_train, X_val, y_train, y_val = load_retina_data(\n",
    "    csv_path=r\"C:\\Users\\rithi\\diabetes_detection_project\\stage2_retinal\\data\\train.csv\",\n",
    "    img_dir=r\"C:\\Users\\rithi\\diabetes_detection_project\\stage2_retinal\\data\\train_images\"\n",
    ")\n",
    "\n",
    "\n"
   ]
  },
  {
   "cell_type": "code",
   "execution_count": 94,
   "id": "520238b8-4c98-49f3-bd3e-65a05d678836",
   "metadata": {},
   "outputs": [
    {
     "name": "stdout",
     "output_type": "stream",
     "text": [
      "Class Weights: {0: 0.402888583218707, 1: 1.9397350993377482, 2: 0.7452926208651399, 3: 3.7312101910828024, 4: 2.5469565217391303}\n"
     ]
    }
   ],
   "source": [
    "from sklearn.utils.class_weight import compute_class_weight\n",
    "import numpy as np\n",
    "\n",
    "# Convert one-hot labels to integers for computing weights\n",
    "y_integers = np.argmax(y_train, axis=1)\n",
    "\n",
    "# Compute class weights based on frequency\n",
    "class_weights = compute_class_weight(class_weight='balanced', classes=np.unique(y_integers), y=y_integers)\n",
    "\n",
    "# Convert to dictionary format required by Keras\n",
    "class_weights = dict(enumerate(class_weights))\n",
    "print(\"Class Weights:\", class_weights)\n"
   ]
  },
  {
   "cell_type": "code",
   "execution_count": 120,
   "id": "2919f20e-6145-43c1-82ed-73141c6c9cc4",
   "metadata": {},
   "outputs": [],
   "source": [
    "#3. Build the CNN Model\n",
    "\n",
    "from tensorflow.keras.applications import EfficientNetB0\n",
    "from tensorflow.keras.models import Sequential\n",
    "from tensorflow.keras.layers import GlobalAveragePooling2D, Dense, Dropout\n",
    "from tensorflow.keras.optimizers import Adam\n",
    "\n",
    "# Build base model\n",
    "base_model = EfficientNetB0(include_top=False, input_shape=(224, 224, 3), weights='imagenet')\n",
    "\n",
    "# ✅ UNFREEZE top 20 layers\n",
    "base_model.trainable = True\n",
    "for layer in base_model.layers[:-50]:\n",
    "    layer.trainable = False\n",
    "\n",
    "# Build full model\n",
    "model = Sequential([\n",
    "    base_model,\n",
    "    GlobalAveragePooling2D(),\n",
    "    Dense(256, activation='relu'),\n",
    "    Dropout(0.3),\n",
    "    Dense(5, activation='softmax')  # 5 classes\n",
    "])\n",
    "\n",
    "# 🔁 Recompile with focal loss instead of categorical crossentropy\n",
    "model.compile(\n",
    "    optimizer=Adam(learning_rate=1e-5),\n",
    "    loss=focal_loss(gamma=2.0, alpha=0.25),\n",
    "    metrics=['accuracy']\n",
    ")\n"
   ]
  },
  {
   "cell_type": "code",
   "execution_count": 122,
   "id": "d1c2bc65-a1de-4005-921a-454ae3437c4d",
   "metadata": {},
   "outputs": [],
   "source": [
    "import tensorflow as tf\n",
    "from tensorflow.keras import backend as K\n",
    "\n",
    "def focal_loss(gamma=2., alpha=0.25):\n",
    "    def loss_fn(y_true, y_pred):\n",
    "        y_pred = tf.clip_by_value(y_pred, K.epsilon(), 1. - K.epsilon())\n",
    "        cross_entropy = -y_true * tf.math.log(y_pred)\n",
    "        weight = alpha * tf.math.pow(1 - y_pred, gamma)\n",
    "        return tf.reduce_mean(tf.reduce_sum(weight * cross_entropy, axis=-1))\n",
    "    return loss_fn\n"
   ]
  },
  {
   "cell_type": "code",
   "execution_count": 124,
   "id": "b7b5d00f-b117-4871-82f5-0a9f5cd4afba",
   "metadata": {},
   "outputs": [],
   "source": [
    "# Add Data Augmentation\n",
    "\n",
    "from tensorflow.keras.preprocessing.image import ImageDataGenerator\n",
    "\n",
    "datagen = ImageDataGenerator(\n",
    "    rotation_range=15,\n",
    "    zoom_range=0.2,\n",
    "    width_shift_range=0.1,\n",
    "    height_shift_range=0.1,\n",
    "    horizontal_flip=True\n",
    ")\n",
    "\n",
    "# Apply it to your training set\n",
    "datagen.fit(X_train)\n",
    "\n",
    "\n"
   ]
  },
  {
   "cell_type": "code",
   "execution_count": 126,
   "id": "558117b4-24b6-428e-a6f7-500455d50245",
   "metadata": {},
   "outputs": [
    {
     "name": "stderr",
     "output_type": "stream",
     "text": [
      "C:\\Users\\rithi\\anaconda3\\Lib\\site-packages\\keras\\src\\trainers\\data_adapters\\py_dataset_adapter.py:121: UserWarning: Your `PyDataset` class should call `super().__init__(**kwargs)` in its constructor. `**kwargs` can include `workers`, `use_multiprocessing`, `max_queue_size`. Do not pass these arguments to `fit()`, as they will be ignored.\n",
      "  self._warn_if_super_not_called()\n"
     ]
    },
    {
     "name": "stdout",
     "output_type": "stream",
     "text": [
      "Epoch 1/25\n",
      "\u001b[1m92/92\u001b[0m \u001b[32m━━━━━━━━━━━━━━━━━━━━\u001b[0m\u001b[37m\u001b[0m \u001b[1m0s\u001b[0m 633ms/step - accuracy: 0.3514 - loss: 0.2424"
     ]
    },
    {
     "name": "stderr",
     "output_type": "stream",
     "text": [
      "WARNING:absl:You are saving your model as an HDF5 file via `model.save()` or `keras.saving.save_model(model)`. This file format is considered legacy. We recommend using instead the native Keras format, e.g. `model.save('my_model.keras')` or `keras.saving.save_model(model, 'my_model.keras')`. \n"
     ]
    },
    {
     "name": "stdout",
     "output_type": "stream",
     "text": [
      "\u001b[1m92/92\u001b[0m \u001b[32m━━━━━━━━━━━━━━━━━━━━\u001b[0m\u001b[37m\u001b[0m \u001b[1m100s\u001b[0m 835ms/step - accuracy: 0.3522 - loss: 0.2422 - val_accuracy: 0.0887 - val_loss: 0.2583\n",
      "Epoch 2/25\n",
      "\u001b[1m92/92\u001b[0m \u001b[32m━━━━━━━━━━━━━━━━━━━━\u001b[0m\u001b[37m\u001b[0m \u001b[1m57s\u001b[0m 613ms/step - accuracy: 0.4802 - loss: 0.2020 - val_accuracy: 0.0491 - val_loss: 0.2655\n",
      "Epoch 3/25\n",
      "\u001b[1m92/92\u001b[0m \u001b[32m━━━━━━━━━━━━━━━━━━━━\u001b[0m\u001b[37m\u001b[0m \u001b[1m0s\u001b[0m 542ms/step - accuracy: 0.4702 - loss: 0.1965"
     ]
    },
    {
     "name": "stderr",
     "output_type": "stream",
     "text": [
      "WARNING:absl:You are saving your model as an HDF5 file via `model.save()` or `keras.saving.save_model(model)`. This file format is considered legacy. We recommend using instead the native Keras format, e.g. `model.save('my_model.keras')` or `keras.saving.save_model(model, 'my_model.keras')`. \n"
     ]
    },
    {
     "name": "stdout",
     "output_type": "stream",
     "text": [
      "\u001b[1m92/92\u001b[0m \u001b[32m━━━━━━━━━━━━━━━━━━━━\u001b[0m\u001b[37m\u001b[0m \u001b[1m59s\u001b[0m 640ms/step - accuracy: 0.4703 - loss: 0.1965 - val_accuracy: 0.0887 - val_loss: 0.2493\n",
      "Epoch 4/25\n",
      "\u001b[1m92/92\u001b[0m \u001b[32m━━━━━━━━━━━━━━━━━━━━\u001b[0m\u001b[37m\u001b[0m \u001b[1m0s\u001b[0m 541ms/step - accuracy: 0.4755 - loss: 0.2025"
     ]
    },
    {
     "name": "stderr",
     "output_type": "stream",
     "text": [
      "WARNING:absl:You are saving your model as an HDF5 file via `model.save()` or `keras.saving.save_model(model)`. This file format is considered legacy. We recommend using instead the native Keras format, e.g. `model.save('my_model.keras')` or `keras.saving.save_model(model, 'my_model.keras')`. \n"
     ]
    },
    {
     "name": "stdout",
     "output_type": "stream",
     "text": [
      "\u001b[1m92/92\u001b[0m \u001b[32m━━━━━━━━━━━━━━━━━━━━\u001b[0m\u001b[37m\u001b[0m \u001b[1m59s\u001b[0m 642ms/step - accuracy: 0.4755 - loss: 0.2024 - val_accuracy: 0.4789 - val_loss: 0.2216\n",
      "Epoch 5/25\n",
      "\u001b[1m92/92\u001b[0m \u001b[32m━━━━━━━━━━━━━━━━━━━━\u001b[0m\u001b[37m\u001b[0m \u001b[1m0s\u001b[0m 547ms/step - accuracy: 0.4759 - loss: 0.2013"
     ]
    },
    {
     "name": "stderr",
     "output_type": "stream",
     "text": [
      "WARNING:absl:You are saving your model as an HDF5 file via `model.save()` or `keras.saving.save_model(model)`. This file format is considered legacy. We recommend using instead the native Keras format, e.g. `model.save('my_model.keras')` or `keras.saving.save_model(model, 'my_model.keras')`. \n"
     ]
    },
    {
     "name": "stdout",
     "output_type": "stream",
     "text": [
      "\u001b[1m92/92\u001b[0m \u001b[32m━━━━━━━━━━━━━━━━━━━━\u001b[0m\u001b[37m\u001b[0m \u001b[1m60s\u001b[0m 650ms/step - accuracy: 0.4760 - loss: 0.2013 - val_accuracy: 0.4789 - val_loss: 0.2030\n",
      "Epoch 6/25\n",
      "\u001b[1m92/92\u001b[0m \u001b[32m━━━━━━━━━━━━━━━━━━━━\u001b[0m\u001b[37m\u001b[0m \u001b[1m0s\u001b[0m 535ms/step - accuracy: 0.4743 - loss: 0.1962"
     ]
    },
    {
     "name": "stderr",
     "output_type": "stream",
     "text": [
      "WARNING:absl:You are saving your model as an HDF5 file via `model.save()` or `keras.saving.save_model(model)`. This file format is considered legacy. We recommend using instead the native Keras format, e.g. `model.save('my_model.keras')` or `keras.saving.save_model(model, 'my_model.keras')`. \n"
     ]
    },
    {
     "name": "stdout",
     "output_type": "stream",
     "text": [
      "\u001b[1m92/92\u001b[0m \u001b[32m━━━━━━━━━━━━━━━━━━━━\u001b[0m\u001b[37m\u001b[0m \u001b[1m58s\u001b[0m 630ms/step - accuracy: 0.4744 - loss: 0.1963 - val_accuracy: 0.4789 - val_loss: 0.1983\n",
      "Epoch 7/25\n",
      "\u001b[1m92/92\u001b[0m \u001b[32m━━━━━━━━━━━━━━━━━━━━\u001b[0m\u001b[37m\u001b[0m \u001b[1m0s\u001b[0m 529ms/step - accuracy: 0.4842 - loss: 0.1988"
     ]
    },
    {
     "name": "stderr",
     "output_type": "stream",
     "text": [
      "WARNING:absl:You are saving your model as an HDF5 file via `model.save()` or `keras.saving.save_model(model)`. This file format is considered legacy. We recommend using instead the native Keras format, e.g. `model.save('my_model.keras')` or `keras.saving.save_model(model, 'my_model.keras')`. \n"
     ]
    },
    {
     "name": "stdout",
     "output_type": "stream",
     "text": [
      "\u001b[1m92/92\u001b[0m \u001b[32m━━━━━━━━━━━━━━━━━━━━\u001b[0m\u001b[37m\u001b[0m \u001b[1m58s\u001b[0m 627ms/step - accuracy: 0.4841 - loss: 0.1987 - val_accuracy: 0.4789 - val_loss: 0.1971\n",
      "Epoch 8/25\n",
      "\u001b[1m92/92\u001b[0m \u001b[32m━━━━━━━━━━━━━━━━━━━━\u001b[0m\u001b[37m\u001b[0m \u001b[1m58s\u001b[0m 628ms/step - accuracy: 0.4910 - loss: 0.1960 - val_accuracy: 0.4789 - val_loss: 0.1976\n",
      "Epoch 9/25\n",
      "\u001b[1m92/92\u001b[0m \u001b[32m━━━━━━━━━━━━━━━━━━━━\u001b[0m\u001b[37m\u001b[0m \u001b[1m0s\u001b[0m 528ms/step - accuracy: 0.4730 - loss: 0.2042"
     ]
    },
    {
     "name": "stderr",
     "output_type": "stream",
     "text": [
      "WARNING:absl:You are saving your model as an HDF5 file via `model.save()` or `keras.saving.save_model(model)`. This file format is considered legacy. We recommend using instead the native Keras format, e.g. `model.save('my_model.keras')` or `keras.saving.save_model(model, 'my_model.keras')`. \n"
     ]
    },
    {
     "name": "stdout",
     "output_type": "stream",
     "text": [
      "\u001b[1m92/92\u001b[0m \u001b[32m━━━━━━━━━━━━━━━━━━━━\u001b[0m\u001b[37m\u001b[0m \u001b[1m58s\u001b[0m 628ms/step - accuracy: 0.4731 - loss: 0.2041 - val_accuracy: 0.4789 - val_loss: 0.1938\n",
      "Epoch 10/25\n",
      "\u001b[1m92/92\u001b[0m \u001b[32m━━━━━━━━━━━━━━━━━━━━\u001b[0m\u001b[37m\u001b[0m \u001b[1m0s\u001b[0m 562ms/step - accuracy: 0.5043 - loss: 0.1967"
     ]
    },
    {
     "name": "stderr",
     "output_type": "stream",
     "text": [
      "WARNING:absl:You are saving your model as an HDF5 file via `model.save()` or `keras.saving.save_model(model)`. This file format is considered legacy. We recommend using instead the native Keras format, e.g. `model.save('my_model.keras')` or `keras.saving.save_model(model, 'my_model.keras')`. \n"
     ]
    },
    {
     "name": "stdout",
     "output_type": "stream",
     "text": [
      "\u001b[1m92/92\u001b[0m \u001b[32m━━━━━━━━━━━━━━━━━━━━\u001b[0m\u001b[37m\u001b[0m \u001b[1m64s\u001b[0m 695ms/step - accuracy: 0.5041 - loss: 0.1967 - val_accuracy: 0.4789 - val_loss: 0.1910\n",
      "Epoch 11/25\n",
      "\u001b[1m92/92\u001b[0m \u001b[32m━━━━━━━━━━━━━━━━━━━━\u001b[0m\u001b[37m\u001b[0m \u001b[1m75s\u001b[0m 812ms/step - accuracy: 0.4765 - loss: 0.1924 - val_accuracy: 0.4789 - val_loss: 0.1931\n",
      "Epoch 12/25\n",
      "\u001b[1m92/92\u001b[0m \u001b[32m━━━━━━━━━━━━━━━━━━━━\u001b[0m\u001b[37m\u001b[0m \u001b[1m97s\u001b[0m 1s/step - accuracy: 0.4853 - loss: 0.1939 - val_accuracy: 0.4789 - val_loss: 0.1943\n",
      "Epoch 13/25\n",
      "\u001b[1m92/92\u001b[0m \u001b[32m━━━━━━━━━━━━━━━━━━━━\u001b[0m\u001b[37m\u001b[0m \u001b[1m91s\u001b[0m 986ms/step - accuracy: 0.4938 - loss: 0.1884 - val_accuracy: 0.4789 - val_loss: 0.1947\n"
     ]
    }
   ],
   "source": [
    "# 5. Train the Model\n",
    "\n",
    "callbacks = [\n",
    "    EarlyStopping(patience=3, restore_best_weights=True),\n",
    "    ModelCheckpoint(\"retina_cnn_model.h5\", save_best_only=True)\n",
    "]\n",
    "\n",
    "history = model.fit(\n",
    "    datagen.flow(X_train, y_train, batch_size=32),\n",
    "    validation_data=(X_val, y_val),\n",
    "    epochs=25,\n",
    "    callbacks=callbacks,\n",
    "    class_weight=class_weights,\n",
    "    verbose=1\n",
    ")\n",
    "\n",
    "\n"
   ]
  },
  {
   "cell_type": "code",
   "execution_count": 128,
   "id": "9940013f-be99-4270-b636-146648880c7e",
   "metadata": {},
   "outputs": [
    {
     "name": "stdout",
     "output_type": "stream",
     "text": [
      "\u001b[1m23/23\u001b[0m \u001b[32m━━━━━━━━━━━━━━━━━━━━\u001b[0m\u001b[37m\u001b[0m \u001b[1m22s\u001b[0m 510ms/step\n"
     ]
    },
    {
     "data": {
      "image/png": "[encoded data removed]",
      "text/plain": [
       "<Figure size 600x500 with 2 Axes>"
      ]
     },
     "metadata": {},
     "output_type": "display_data"
    },
    {
     "name": "stdout",
     "output_type": "stream",
     "text": [
      "Classification Report:\n",
      "\n",
      "              precision    recall  f1-score   support\n",
      "\n",
      "           0      0.479     1.000     0.648       351\n",
      "           1      0.000     0.000     0.000        68\n",
      "           2      0.000     0.000     0.000       213\n",
      "           3      0.000     0.000     0.000        36\n",
      "           4      0.000     0.000     0.000        65\n",
      "\n",
      "    accuracy                          0.479       733\n",
      "   macro avg      0.096     0.200     0.130       733\n",
      "weighted avg      0.229     0.479     0.310       733\n",
      "\n"
     ]
    },
    {
     "name": "stderr",
     "output_type": "stream",
     "text": [
      "C:\\Users\\rithi\\anaconda3\\Lib\\site-packages\\sklearn\\metrics\\_classification.py:1531: UndefinedMetricWarning: Precision is ill-defined and being set to 0.0 in labels with no predicted samples. Use `zero_division` parameter to control this behavior.\n",
      "  _warn_prf(average, modifier, f\"{metric.capitalize()} is\", len(result))\n",
      "C:\\Users\\rithi\\anaconda3\\Lib\\site-packages\\sklearn\\metrics\\_classification.py:1531: UndefinedMetricWarning: Precision is ill-defined and being set to 0.0 in labels with no predicted samples. Use `zero_division` parameter to control this behavior.\n",
      "  _warn_prf(average, modifier, f\"{metric.capitalize()} is\", len(result))\n",
      "C:\\Users\\rithi\\anaconda3\\Lib\\site-packages\\sklearn\\metrics\\_classification.py:1531: UndefinedMetricWarning: Precision is ill-defined and being set to 0.0 in labels with no predicted samples. Use `zero_division` parameter to control this behavior.\n",
      "  _warn_prf(average, modifier, f\"{metric.capitalize()} is\", len(result))\n"
     ]
    }
   ],
   "source": [
    "from sklearn.metrics import classification_report, confusion_matrix\n",
    "import numpy as np\n",
    "import seaborn as sns\n",
    "import matplotlib.pyplot as plt\n",
    "\n",
    "# Predict on validation set\n",
    "y_pred_probs = model.predict(X_val)\n",
    "y_pred = np.argmax(y_pred_probs, axis=1)  # predicted class indices\n",
    "y_true = np.argmax(y_val, axis=1)         # actual class indices\n",
    "\n",
    "# Confusion matrix\n",
    "cm = confusion_matrix(y_true, y_pred)\n",
    "plt.figure(figsize=(6, 5))\n",
    "sns.heatmap(cm, annot=True, fmt='d', cmap='Blues', xticklabels=range(5), yticklabels=range(5))\n",
    "plt.xlabel('Predicted')\n",
    "plt.ylabel('True Label')\n",
    "plt.title('Confusion Matrix')\n",
    "plt.show()\n",
    "\n",
    "# Classification report\n",
    "print(\"Classification Report:\\n\")\n",
    "print(classification_report(y_true, y_pred, digits=3))\n"
   ]
  },
  {
   "cell_type": "code",
   "execution_count": 7,
   "id": "5f3b4f1f-4e41-4545-a308-76eaf9064372",
   "metadata": {},
   "outputs": [
    {
     "name": "stdout",
     "output_type": "stream",
     "text": [
      "Collecting opencv-python\n",
      "  Downloading opencv_python-4.11.0.86-cp37-abi3-win_amd64.whl.metadata (20 kB)\n",
      "Requirement already satisfied: numpy>=1.21.2 in c:\\users\\rithi\\anaconda3\\lib\\site-packages (from opencv-python) (1.26.4)\n",
      "Downloading opencv_python-4.11.0.86-cp37-abi3-win_amd64.whl (39.5 MB)\n",
      "   ---------------------------------------- 0.0/39.5 MB ? eta -:--:--\n",
      "   ---------------------------------------- 0.3/39.5 MB ? eta -:--:--\n",
      "    --------------------------------------- 0.5/39.5 MB 1.2 MB/s eta 0:00:33\n",
      "    --------------------------------------- 0.8/39.5 MB 1.1 MB/s eta 0:00:35\n",
      "   - -------------------------------------- 1.0/39.5 MB 1.2 MB/s eta 0:00:33\n",
      "   - -------------------------------------- 1.3/39.5 MB 1.2 MB/s eta 0:00:31\n",
      "   - -------------------------------------- 1.6/39.5 MB 1.3 MB/s eta 0:00:30\n",
      "   - -------------------------------------- 1.8/39.5 MB 1.3 MB/s eta 0:00:30\n",
      "   -- ------------------------------------- 2.4/39.5 MB 1.4 MB/s eta 0:00:27\n",
      "   -- ------------------------------------- 2.6/39.5 MB 1.5 MB/s eta 0:00:26\n",
      "   -- ------------------------------------- 2.9/39.5 MB 1.4 MB/s eta 0:00:27\n",
      "   --- ------------------------------------ 3.1/39.5 MB 1.4 MB/s eta 0:00:27\n",
      "   --- ------------------------------------ 3.1/39.5 MB 1.4 MB/s eta 0:00:27\n",
      "   --- ------------------------------------ 3.4/39.5 MB 1.3 MB/s eta 0:00:28\n",
      "   --- ------------------------------------ 3.4/39.5 MB 1.3 MB/s eta 0:00:28\n",
      "   --- ------------------------------------ 3.7/39.5 MB 1.2 MB/s eta 0:00:30\n",
      "   --- ------------------------------------ 3.9/39.5 MB 1.2 MB/s eta 0:00:30\n",
      "   ---- ----------------------------------- 4.2/39.5 MB 1.2 MB/s eta 0:00:31\n",
      "   ---- ----------------------------------- 4.5/39.5 MB 1.2 MB/s eta 0:00:29\n",
      "   ----- ---------------------------------- 5.0/39.5 MB 1.3 MB/s eta 0:00:28\n",
      "   ----- ---------------------------------- 5.2/39.5 MB 1.3 MB/s eta 0:00:27\n",
      "   ----- ---------------------------------- 5.5/39.5 MB 1.3 MB/s eta 0:00:27\n",
      "   ----- ---------------------------------- 5.8/39.5 MB 1.3 MB/s eta 0:00:27\n",
      "   ------ --------------------------------- 6.0/39.5 MB 1.3 MB/s eta 0:00:27\n",
      "   ------ --------------------------------- 6.3/39.5 MB 1.3 MB/s eta 0:00:27\n",
      "   ------ --------------------------------- 6.6/39.5 MB 1.2 MB/s eta 0:00:27\n",
      "   ------ --------------------------------- 6.6/39.5 MB 1.2 MB/s eta 0:00:27\n",
      "   ------- -------------------------------- 7.1/39.5 MB 1.3 MB/s eta 0:00:26\n",
      "   ------- -------------------------------- 7.3/39.5 MB 1.3 MB/s eta 0:00:26\n",
      "   ------- -------------------------------- 7.6/39.5 MB 1.3 MB/s eta 0:00:26\n",
      "   ------- -------------------------------- 7.9/39.5 MB 1.3 MB/s eta 0:00:25\n",
      "   -------- ------------------------------- 8.1/39.5 MB 1.3 MB/s eta 0:00:25\n",
      "   -------- ------------------------------- 8.4/39.5 MB 1.3 MB/s eta 0:00:25\n",
      "   -------- ------------------------------- 8.7/39.5 MB 1.3 MB/s eta 0:00:25\n",
      "   --------- ------------------------------ 8.9/39.5 MB 1.3 MB/s eta 0:00:24\n",
      "   --------- ------------------------------ 9.2/39.5 MB 1.3 MB/s eta 0:00:24\n",
      "   --------- ------------------------------ 9.4/39.5 MB 1.3 MB/s eta 0:00:24\n",
      "   --------- ------------------------------ 9.7/39.5 MB 1.3 MB/s eta 0:00:24\n",
      "   ---------- ----------------------------- 10.0/39.5 MB 1.3 MB/s eta 0:00:24\n",
      "   ---------- ----------------------------- 10.2/39.5 MB 1.3 MB/s eta 0:00:24\n",
      "   ---------- ----------------------------- 10.5/39.5 MB 1.3 MB/s eta 0:00:23\n",
      "   ---------- ----------------------------- 10.7/39.5 MB 1.3 MB/s eta 0:00:23\n",
      "   ----------- ---------------------------- 11.0/39.5 MB 1.3 MB/s eta 0:00:23\n",
      "   ----------- ---------------------------- 11.3/39.5 MB 1.2 MB/s eta 0:00:23\n",
      "   ----------- ---------------------------- 11.8/39.5 MB 1.3 MB/s eta 0:00:22\n",
      "   ------------ --------------------------- 12.1/39.5 MB 1.3 MB/s eta 0:00:22\n",
      "   ------------ --------------------------- 12.3/39.5 MB 1.3 MB/s eta 0:00:22\n",
      "   ------------ --------------------------- 12.6/39.5 MB 1.3 MB/s eta 0:00:21\n",
      "   ------------- -------------------------- 12.8/39.5 MB 1.3 MB/s eta 0:00:21\n",
      "   ------------- -------------------------- 13.1/39.5 MB 1.3 MB/s eta 0:00:21\n",
      "   ------------- -------------------------- 13.4/39.5 MB 1.3 MB/s eta 0:00:21\n",
      "   ------------- -------------------------- 13.6/39.5 MB 1.3 MB/s eta 0:00:21\n",
      "   ------------- -------------------------- 13.6/39.5 MB 1.3 MB/s eta 0:00:21\n",
      "   ------------- -------------------------- 13.6/39.5 MB 1.3 MB/s eta 0:00:21\n",
      "   -------------- ------------------------- 14.2/39.5 MB 1.2 MB/s eta 0:00:21\n",
      "   -------------- ------------------------- 14.4/39.5 MB 1.3 MB/s eta 0:00:20\n",
      "   -------------- ------------------------- 14.4/39.5 MB 1.3 MB/s eta 0:00:20\n",
      "   -------------- ------------------------- 14.7/39.5 MB 1.2 MB/s eta 0:00:21\n",
      "   --------------- ------------------------ 14.9/39.5 MB 1.2 MB/s eta 0:00:20\n",
      "   --------------- ------------------------ 15.2/39.5 MB 1.2 MB/s eta 0:00:20\n",
      "   --------------- ------------------------ 15.5/39.5 MB 1.2 MB/s eta 0:00:20\n",
      "   --------------- ------------------------ 15.7/39.5 MB 1.2 MB/s eta 0:00:20\n",
      "   ---------------- ----------------------- 16.3/39.5 MB 1.2 MB/s eta 0:00:19\n",
      "   ---------------- ----------------------- 16.3/39.5 MB 1.2 MB/s eta 0:00:19\n",
      "   ---------------- ----------------------- 16.5/39.5 MB 1.2 MB/s eta 0:00:19\n",
      "   ---------------- ----------------------- 16.8/39.5 MB 1.2 MB/s eta 0:00:19\n",
      "   ----------------- ---------------------- 17.0/39.5 MB 1.2 MB/s eta 0:00:19\n",
      "   ----------------- ---------------------- 17.6/39.5 MB 1.3 MB/s eta 0:00:18\n",
      "   ------------------ --------------------- 17.8/39.5 MB 1.3 MB/s eta 0:00:18\n",
      "   ------------------ --------------------- 18.1/39.5 MB 1.3 MB/s eta 0:00:17\n",
      "   ------------------ --------------------- 18.4/39.5 MB 1.3 MB/s eta 0:00:17\n",
      "   ------------------- -------------------- 18.9/39.5 MB 1.3 MB/s eta 0:00:17\n",
      "   ------------------- -------------------- 19.1/39.5 MB 1.3 MB/s eta 0:00:16\n",
      "   ------------------- -------------------- 19.4/39.5 MB 1.3 MB/s eta 0:00:16\n",
      "   ------------------- -------------------- 19.7/39.5 MB 1.3 MB/s eta 0:00:16\n",
      "   -------------------- ------------------- 19.9/39.5 MB 1.3 MB/s eta 0:00:16\n",
      "   -------------------- ------------------- 20.2/39.5 MB 1.3 MB/s eta 0:00:16\n",
      "   -------------------- ------------------- 20.4/39.5 MB 1.3 MB/s eta 0:00:15\n",
      "   -------------------- ------------------- 20.7/39.5 MB 1.3 MB/s eta 0:00:15\n",
      "   --------------------- ------------------ 21.0/39.5 MB 1.3 MB/s eta 0:00:15\n",
      "   --------------------- ------------------ 21.2/39.5 MB 1.3 MB/s eta 0:00:15\n",
      "   --------------------- ------------------ 21.5/39.5 MB 1.3 MB/s eta 0:00:15\n",
      "   --------------------- ------------------ 21.5/39.5 MB 1.3 MB/s eta 0:00:15\n",
      "   ---------------------- ----------------- 21.8/39.5 MB 1.3 MB/s eta 0:00:15\n",
      "   ---------------------- ----------------- 21.8/39.5 MB 1.3 MB/s eta 0:00:15\n",
      "   ---------------------- ----------------- 22.0/39.5 MB 1.2 MB/s eta 0:00:15\n",
      "   ---------------------- ----------------- 22.3/39.5 MB 1.2 MB/s eta 0:00:14\n",
      "   ---------------------- ----------------- 22.3/39.5 MB 1.2 MB/s eta 0:00:14\n",
      "   ---------------------- ----------------- 22.5/39.5 MB 1.2 MB/s eta 0:00:14\n",
      "   ----------------------- ---------------- 22.8/39.5 MB 1.2 MB/s eta 0:00:14\n",
      "   ----------------------- ---------------- 23.1/39.5 MB 1.2 MB/s eta 0:00:14\n",
      "   ----------------------- ---------------- 23.3/39.5 MB 1.2 MB/s eta 0:00:14\n",
      "   ----------------------- ---------------- 23.6/39.5 MB 1.2 MB/s eta 0:00:13\n",
      "   ------------------------ --------------- 23.9/39.5 MB 1.2 MB/s eta 0:00:13\n",
      "   ------------------------ --------------- 24.1/39.5 MB 1.2 MB/s eta 0:00:13\n",
      "   ------------------------ --------------- 24.6/39.5 MB 1.2 MB/s eta 0:00:12\n",
      "   ------------------------- -------------- 24.9/39.5 MB 1.2 MB/s eta 0:00:12\n",
      "   ------------------------- -------------- 24.9/39.5 MB 1.2 MB/s eta 0:00:12\n",
      "   ------------------------- -------------- 25.2/39.5 MB 1.2 MB/s eta 0:00:12\n",
      "   ------------------------- -------------- 25.4/39.5 MB 1.2 MB/s eta 0:00:12\n",
      "   -------------------------- ------------- 25.7/39.5 MB 1.2 MB/s eta 0:00:12\n",
      "   -------------------------- ------------- 26.0/39.5 MB 1.2 MB/s eta 0:00:11\n",
      "   -------------------------- ------------- 26.5/39.5 MB 1.2 MB/s eta 0:00:11\n",
      "   --------------------------- ------------ 26.7/39.5 MB 1.2 MB/s eta 0:00:11\n",
      "   --------------------------- ------------ 27.0/39.5 MB 1.2 MB/s eta 0:00:11\n",
      "   --------------------------- ------------ 27.0/39.5 MB 1.2 MB/s eta 0:00:11\n",
      "   --------------------------- ------------ 27.3/39.5 MB 1.2 MB/s eta 0:00:10\n",
      "   --------------------------- ------------ 27.5/39.5 MB 1.2 MB/s eta 0:00:10\n",
      "   ---------------------------- ----------- 27.8/39.5 MB 1.2 MB/s eta 0:00:10\n",
      "   ---------------------------- ----------- 28.0/39.5 MB 1.2 MB/s eta 0:00:10\n",
      "   ---------------------------- ----------- 28.3/39.5 MB 1.2 MB/s eta 0:00:10\n",
      "   ---------------------------- ----------- 28.6/39.5 MB 1.2 MB/s eta 0:00:09\n",
      "   ----------------------------- ---------- 28.8/39.5 MB 1.2 MB/s eta 0:00:09\n",
      "   ----------------------------- ---------- 29.1/39.5 MB 1.2 MB/s eta 0:00:09\n",
      "   ----------------------------- ---------- 29.4/39.5 MB 1.2 MB/s eta 0:00:09\n",
      "   ------------------------------ --------- 29.6/39.5 MB 1.2 MB/s eta 0:00:08\n",
      "   ------------------------------ --------- 29.9/39.5 MB 1.2 MB/s eta 0:00:08\n",
      "   ------------------------------ --------- 30.1/39.5 MB 1.2 MB/s eta 0:00:08\n",
      "   ------------------------------- -------- 30.7/39.5 MB 1.2 MB/s eta 0:00:08\n",
      "   ------------------------------- -------- 30.9/39.5 MB 1.2 MB/s eta 0:00:07\n",
      "   -------------------------------- ------- 31.7/39.5 MB 1.3 MB/s eta 0:00:07\n",
      "   -------------------------------- ------- 32.0/39.5 MB 1.3 MB/s eta 0:00:06\n",
      "   -------------------------------- ------- 32.5/39.5 MB 1.3 MB/s eta 0:00:06\n",
      "   --------------------------------- ------ 32.8/39.5 MB 1.3 MB/s eta 0:00:06\n",
      "   --------------------------------- ------ 33.0/39.5 MB 1.3 MB/s eta 0:00:06\n",
      "   --------------------------------- ------ 33.3/39.5 MB 1.3 MB/s eta 0:00:05\n",
      "   --------------------------------- ------ 33.6/39.5 MB 1.3 MB/s eta 0:00:05\n",
      "   ---------------------------------- ----- 33.8/39.5 MB 1.3 MB/s eta 0:00:05\n",
      "   ---------------------------------- ----- 34.1/39.5 MB 1.3 MB/s eta 0:00:05\n",
      "   ---------------------------------- ----- 34.3/39.5 MB 1.3 MB/s eta 0:00:05\n",
      "   ----------------------------------- ---- 34.6/39.5 MB 1.3 MB/s eta 0:00:04\n",
      "   ----------------------------------- ---- 34.9/39.5 MB 1.3 MB/s eta 0:00:04\n",
      "   ----------------------------------- ---- 35.1/39.5 MB 1.3 MB/s eta 0:00:04\n",
      "   ----------------------------------- ---- 35.4/39.5 MB 1.3 MB/s eta 0:00:04\n",
      "   ------------------------------------ --- 35.7/39.5 MB 1.3 MB/s eta 0:00:04\n",
      "   ------------------------------------ --- 35.9/39.5 MB 1.3 MB/s eta 0:00:03\n",
      "   ------------------------------------ --- 36.2/39.5 MB 1.3 MB/s eta 0:00:03\n",
      "   ------------------------------------- -- 36.7/39.5 MB 1.3 MB/s eta 0:00:03\n",
      "   ------------------------------------- -- 37.0/39.5 MB 1.3 MB/s eta 0:00:02\n",
      "   ------------------------------------- -- 37.2/39.5 MB 1.3 MB/s eta 0:00:02\n",
      "   ------------------------------------- -- 37.5/39.5 MB 1.3 MB/s eta 0:00:02\n",
      "   -------------------------------------- - 37.7/39.5 MB 1.3 MB/s eta 0:00:02\n",
      "   -------------------------------------- - 38.3/39.5 MB 1.3 MB/s eta 0:00:01\n",
      "   ---------------------------------------  38.5/39.5 MB 1.3 MB/s eta 0:00:01\n",
      "   ---------------------------------------  38.8/39.5 MB 1.3 MB/s eta 0:00:01\n",
      "   ---------------------------------------  39.1/39.5 MB 1.3 MB/s eta 0:00:01\n",
      "   ---------------------------------------  39.3/39.5 MB 1.3 MB/s eta 0:00:01\n",
      "   ---------------------------------------- 39.5/39.5 MB 1.3 MB/s eta 0:00:00\n",
      "Installing collected packages: opencv-python\n",
      "Successfully installed opencv-python-4.11.0.86\n"
     ]
    }
   ],
   "source": [
    "!pip install opencv-python\n",
    "\n"
   ]
  },
  {
   "cell_type": "code",
   "execution_count": 130,
   "id": "7f50a417-7d74-481b-b2cc-048b1e3e778d",
   "metadata": {},
   "outputs": [
    {
     "data": {
      "image/png": "[encoded data removed]",
      "text/plain": [
       "<Figure size 1200x500 with 2 Axes>"
      ]
     },
     "metadata": {},
     "output_type": "display_data"
    }
   ],
   "source": [
    "#1. Plot Training & Validation Accuracy\n",
    "\n",
    "import matplotlib.pyplot as plt\n",
    "\n",
    "plt.figure(figsize=(12, 5))\n",
    "\n",
    "# Accuracy\n",
    "plt.subplot(1, 2, 1)\n",
    "plt.plot(history.history['accuracy'], label='Train Accuracy')\n",
    "plt.plot(history.history['val_accuracy'], label='Val Accuracy')\n",
    "plt.title('Train vs Val Accuracy')\n",
    "plt.xlabel('Epoch')\n",
    "plt.ylabel('Accuracy')\n",
    "plt.legend()\n",
    "plt.grid(True)\n",
    "\n",
    "# Loss\n",
    "plt.subplot(1, 2, 2)\n",
    "plt.plot(history.history['loss'], label='Train Loss')\n",
    "plt.plot(history.history['val_loss'], label='Val Loss')\n",
    "plt.title('Train vs Val Loss')\n",
    "plt.xlabel('Epoch')\n",
    "plt.ylabel('Loss')\n",
    "plt.legend()\n",
    "plt.grid(True)\n",
    "\n",
    "plt.tight_layout()\n",
    "plt.show()\n",
    "\n",
    "\n",
    "\n",
    "\n",
    "\n"
   ]
  },
  {
   "cell_type": "code",
   "execution_count": 158,
   "id": "c304703a-d238-4976-ae3f-ff4c83c3372c",
   "metadata": {},
   "outputs": [
    {
     "name": "stdout",
     "output_type": "stream",
     "text": [
      "\u001b[1m5/5\u001b[0m \u001b[32m━━━━━━━━━━━━━━━━━━━━\u001b[0m\u001b[37m\u001b[0m \u001b[1m4s\u001b[0m 610ms/step\n",
      "Image prediction shape: (144, 5)\n",
      "Aligned Clinical predictions shape: (144, 2)\n",
      "Aligned Image predictions shape: (144, 5)\n"
     ]
    }
   ],
   "source": [
    "# Get Image Predictions from CNN\n",
    "\n",
    "from tensorflow.keras.models import load_model\n",
    "import pickle\n",
    "import pandas as pd\n",
    "\n",
    "# --- Step 1: Load original clinical CSV to get correct test indices mapping ---\n",
    "df = pd.read_csv(r\"C:\\Users\\rithi\\diabetes_detection_project\\stage1_clinical_ml\\diabetes.csv\")\n",
    "X = df.drop(\"Outcome\", axis=1)  # X will be used to get correct index reference\n",
    "\n",
    "# --- Step 2: Load trained CNN model ---\n",
    "cnn_model = load_model(\"retina_cnn_model.h5\", compile=False)\n",
    "\n",
    "# --- Step 3: Load saved validation indices (used during Stage 1 split) ---\n",
    "with open(\"val_indices.pkl\", \"rb\") as f:\n",
    "    val_indices = pickle.load(f)\n",
    "\n",
    "# --- Step 4: Convert indices to relative positions in image data (match order) ---\n",
    "val_indices_relative = [X.index.get_loc(i) for i in val_indices]\n",
    "val_indices_relative = [i for i in val_indices_relative if i < len(X_val)]  # safeguard\n",
    "\n",
    "# --- Step 5: Align image validation data ---\n",
    "X_val_aligned = X_val[val_indices_relative]\n",
    "\n",
    "# --- Step 6: Predict using CNN model ---\n",
    "image_preds = cnn_model.predict(X_val_aligned)\n",
    "print(\"Image prediction shape:\", image_preds.shape)\n",
    "\n",
    "# --- Step 7: Load clinical model and get predictions ---\n",
    "with open(\"model.pkl\", \"rb\") as f:\n",
    "    clinical_model = pickle.load(f)\n",
    "\n",
    "# Get full clinical predictions on entire data (same as what model saw)\n",
    "clinical_preds = clinical_model.predict_proba(X)\n",
    "\n",
    "# --- Step 8: Align clinical predictions using same indices ---\n",
    "clinical_preds_aligned = clinical_preds[val_indices_relative]\n",
    "print(\"Aligned Clinical predictions shape:\", clinical_preds_aligned.shape)\n",
    "print(\"Aligned Image predictions shape:\", image_preds.shape)\n",
    "\n",
    "\n",
    "\n"
   ]
  },
  {
   "cell_type": "code",
   "execution_count": 166,
   "id": "6aa10e17-92da-4e07-ad74-8561ed619c48",
   "metadata": {},
   "outputs": [
    {
     "name": "stdout",
     "output_type": "stream",
     "text": [
      "\n",
      "Fusion Classification Report (Random Forest):\n",
      "              precision    recall  f1-score   support\n",
      "\n",
      "           0       1.00      1.00      1.00        94\n",
      "           1       1.00      1.00      1.00        50\n",
      "\n",
      "    accuracy                           1.00       144\n",
      "   macro avg       1.00      1.00      1.00       144\n",
      "weighted avg       1.00      1.00      1.00       144\n",
      "\n"
     ]
    },
    {
     "data": {
      "image/png": "[encoded data removed]",
      "text/plain": [
       "<Figure size 640x480 with 2 Axes>"
      ]
     },
     "metadata": {},
     "output_type": "display_data"
    }
   ],
   "source": [
    "from sklearn.ensemble import RandomForestClassifier\n",
    "from sklearn.metrics import classification_report, confusion_matrix\n",
    "import matplotlib.pyplot as plt\n",
    "import seaborn as sns\n",
    "import pandas as pd\n",
    "import pickle\n",
    "import numpy as np  # just in case it's not already imported\n",
    "\n",
    "# Step 3.1: Concatenate predictions (clinical + image)\n",
    "fusion_X = np.concatenate([clinical_preds_aligned, image_preds], axis=1)\n",
    "\n",
    "# Step 3.2: Load true labels directly from diabetes.csv using val_indices\n",
    "df = pd.read_csv(r\"C:\\Users\\rithi\\diabetes_detection_project\\stage1_clinical_ml\\diabetes.csv\")\n",
    "y_all = df[\"Outcome\"]\n",
    "\n",
    "with open(\"val_indices.pkl\", \"rb\") as f:\n",
    "    val_indices = pickle.load(f)\n",
    "\n",
    "# Ensure valid indices and get labels\n",
    "val_indices = [i for i in val_indices if i < len(y_all)]\n",
    "y_val = y_all.loc[val_indices].iloc[:len(fusion_X)].values\n",
    "\n",
    "# ✅ Step 4B.1: Train Random Forest on fused predictions\n",
    "fusion_model = RandomForestClassifier(n_estimators=100, random_state=42)\n",
    "fusion_model.fit(fusion_X, y_val)\n",
    "\n",
    "# ✅ Step 4B.2: Predict and evaluate\n",
    "fusion_preds = fusion_model.predict(fusion_X)\n",
    "\n",
    "# ✅ Step 4B.3: Classification report\n",
    "print(\"\\nFusion Classification Report (Random Forest):\")\n",
    "print(classification_report(y_val, fusion_preds))\n",
    "\n",
    "# ✅ Step 4B.4: Confusion matrix\n",
    "cm = confusion_matrix(y_val, fusion_preds)\n",
    "sns.heatmap(cm, annot=True, fmt='d', cmap='Blues')\n",
    "plt.title(\"Fusion Model - Confusion Matrix (Random Forest)\")\n",
    "plt.xlabel(\"Predicted\")\n",
    "plt.ylabel(\"True\")\n",
    "plt.show()\n"
   ]
  },
  {
   "cell_type": "code",
   "execution_count": 168,
   "id": "38a7ae32-0ef1-496f-ac4c-834ab4fd2488",
   "metadata": {},
   "outputs": [
    {
     "data": {
      "text/plain": [
       "['fusion_rf_model.pkl']"
      ]
     },
     "execution_count": 168,
     "metadata": {},
     "output_type": "execute_result"
    }
   ],
   "source": [
    "import joblib\n",
    "joblib.dump(fusion_model, \"fusion_rf_model.pkl\")\n"
   ]
  },
  {
   "cell_type": "code",
   "execution_count": null,
   "id": "861ef981-8b59-46ef-b1fc-7c46a54795f5",
   "metadata": {},
   "outputs": [],
   "source": []
  }
 ],
 "metadata": {
  "kernelspec": {
   "display_name": "Python [conda env:base] *",
   "language": "python",
   "name": "conda-base-py"
  },
  "language_info": {
   "codemirror_mode": {
    "name": "ipython",
    "version": 3
   },
   "file_extension": ".py",
   "mimetype": "text/x-python",
   "name": "python",
   "nbconvert_exporter": "python",
   "pygments_lexer": "ipython3",
   "version": "3.12.7"
  }
 },
 "nbformat": 4,
 "nbformat_minor": 5
}
