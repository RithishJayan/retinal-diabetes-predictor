{
 "cells": [
  {
   "cell_type": "code",
   "execution_count": 1,
   "id": "d9633dd0-746f-478c-86b9-e59da56555ed",
   "metadata": {},
   "outputs": [
    {
     "ename": "NameError",
     "evalue": "name 'clinical_preds_aligned' is not defined",
     "output_type": "error",
     "traceback": [
      "\u001b[1;31m---------------------------------------------------------------------------\u001b[0m",
      "\u001b[1;31mNameError\u001b[0m                                 Traceback (most recent call last)",
      "Cell \u001b[1;32mIn[1], line 10\u001b[0m\n\u001b[0;32m      7\u001b[0m \u001b[38;5;28;01mimport\u001b[39;00m \u001b[38;5;21;01mnumpy\u001b[39;00m \u001b[38;5;28;01mas\u001b[39;00m \u001b[38;5;21;01mnp\u001b[39;00m  \u001b[38;5;66;03m# just in case it's not already imported\u001b[39;00m\n\u001b[0;32m      9\u001b[0m \u001b[38;5;66;03m# Step 3.1: Concatenate predictions (clinical + image)\u001b[39;00m\n\u001b[1;32m---> 10\u001b[0m fusion_X \u001b[38;5;241m=\u001b[39m np\u001b[38;5;241m.\u001b[39mconcatenate([clinical_preds_aligned, image_preds], axis\u001b[38;5;241m=\u001b[39m\u001b[38;5;241m1\u001b[39m)\n\u001b[0;32m     12\u001b[0m \u001b[38;5;66;03m# Step 3.2: Load true labels directly from diabetes.csv using val_indices\u001b[39;00m\n\u001b[0;32m     13\u001b[0m df \u001b[38;5;241m=\u001b[39m pd\u001b[38;5;241m.\u001b[39mread_csv(\u001b[38;5;124mr\u001b[39m\u001b[38;5;124m\"\u001b[39m\u001b[38;5;124mC:\u001b[39m\u001b[38;5;124m\\\u001b[39m\u001b[38;5;124mUsers\u001b[39m\u001b[38;5;124m\\\u001b[39m\u001b[38;5;124mrithi\u001b[39m\u001b[38;5;124m\\\u001b[39m\u001b[38;5;124mdiabetes_detection_project\u001b[39m\u001b[38;5;124m\\\u001b[39m\u001b[38;5;124mstage1_clinical_ml\u001b[39m\u001b[38;5;124m\\\u001b[39m\u001b[38;5;124mdiabetes.csv\u001b[39m\u001b[38;5;124m\"\u001b[39m)\n",
      "\u001b[1;31mNameError\u001b[0m: name 'clinical_preds_aligned' is not defined"
     ]
    }
   ],
   "source": [
    "from sklearn.ensemble import RandomForestClassifier\n",
    "from sklearn.metrics import classification_report, confusion_matrix\n",
    "import matplotlib.pyplot as plt\n",
    "import seaborn as sns\n",
    "import pandas as pd\n",
    "import pickle\n",
    "import numpy as np  # just in case it's not already imported\n",
    "\n",
    "# Step 3.1: Concatenate predictions (clinical + image)\n",
    "fusion_X = np.concatenate([clinical_preds_aligned, image_preds], axis=1)\n",
    "\n",
    "# Step 3.2: Load true labels directly from diabetes.csv using val_indices\n",
    "df = pd.read_csv(r\"C:\\Users\\rithi\\diabetes_detection_project\\stage1_clinical_ml\\diabetes.csv\")\n",
    "y_all = df[\"Outcome\"]\n",
    "\n",
    "with open(\"val_indices.pkl\", \"rb\") as f:\n",
    "    val_indices = pickle.load(f)\n",
    "\n",
    "# Ensure valid indices and get labels\n",
    "val_indices = [i for i in val_indices if i < len(y_all)]\n",
    "y_val = y_all.loc[val_indices].iloc[:len(fusion_X)].values\n",
    "\n",
    "# ✅ Step 4B.1: Train Random Forest on fused predictions\n",
    "fusion_model = RandomForestClassifier(n_estimators=100, random_state=42)\n",
    "fusion_model.fit(fusion_X, y_val)\n",
    "\n",
    "# ✅ Step 4B.2: Predict and evaluate\n",
    "fusion_preds = fusion_model.predict(fusion_X)\n",
    "\n",
    "# ✅ Step 4B.3: Classification report\n",
    "print(\"\\nFusion Classification Report (Random Forest):\")\n",
    "print(classification_report(y_val, fusion_preds))\n",
    "\n",
    "# ✅ Step 4B.4: Confusion matrix\n",
    "cm = confusion_matrix(y_val, fusion_preds)\n",
    "sns.heatmap(cm, annot=True, fmt='d', cmap='Blues')\n",
    "plt.title(\"Fusion Model - Confusion Matrix (Random Forest)\")\n",
    "plt.xlabel(\"Predicted\")\n",
    "plt.ylabel(\"True\")\n",
    "plt.show()\n"
   ]
  },
  {
   "cell_type": "code",
   "execution_count": null,
   "id": "52db204a-08db-4375-a4d0-ee7f634dd47e",
   "metadata": {},
   "outputs": [],
   "source": []
  }
 ],
 "metadata": {
  "kernelspec": {
   "display_name": "Python [conda env:base] *",
   "language": "python",
   "name": "conda-base-py"
  },
  "language_info": {
   "codemirror_mode": {
    "name": "ipython",
    "version": 3
   },
   "file_extension": ".py",
   "mimetype": "text/x-python",
   "name": "python",
   "nbconvert_exporter": "python",
   "pygments_lexer": "ipython3",
   "version": "3.12.7"
  }
 },
 "nbformat": 4,
 "nbformat_minor": 5
}
